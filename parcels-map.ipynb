{
 "cells": [
  {
   "cell_type": "code",
   "execution_count": 1,
   "metadata": {},
   "outputs": [
    {
     "name": "stderr",
     "output_type": "stream",
     "text": [
      "/opt/homebrew/lib/python3.11/site-packages/geopandas/_compat.py:124: UserWarning: The Shapely GEOS version (3.12.1-CAPI-1.18.1) is incompatible with the GEOS version PyGEOS was compiled with (3.10.4-CAPI-1.16.2). Conversions between both will be slow.\n",
      "  warnings.warn(\n"
     ]
    },
    {
     "data": {
      "text/plain": [
       "True"
      ]
     },
     "execution_count": 1,
     "metadata": {},
     "output_type": "execute_result"
    }
   ],
   "source": [
    "# import libraries\n",
    "import geopandas as gpd\n",
    "import pydeck as pdk\n",
    "import os\n",
    "from dotenv import load_dotenv\n",
    "load_dotenv()"
   ]
  },
  {
   "cell_type": "code",
   "execution_count": 3,
   "metadata": {},
   "outputs": [],
   "source": [
    "# load parcel data from project folder (Dropbox)\n",
    "df_parcels = gpd.read_file(os.environ.get('LOCAL_PATH')+\"Spatial Data/ny-parcels/NYC_2021_Tax_Parcels_SHP_2203/NewYork_2021_Tax_Parcels_SHP_2203.shp\")\n",
    "# df_buildings = gpd.read_file(os.environ.get('LOCAL_PATH')+\"Data/Building Footprints/NYC/geo_export_a80ea1a2-e8e0-4ffd-862c-1199433ac303.shp\")"
   ]
  },
  {
   "cell_type": "code",
   "execution_count": 4,
   "metadata": {},
   "outputs": [
    {
     "data": {
      "text/plain": [
       "0        1921.544489\n",
       "1        1200.788083\n",
       "2        3741.111736\n",
       "3         369.612212\n",
       "4         502.254754\n",
       "            ...     \n",
       "42292     207.048801\n",
       "42293     159.618447\n",
       "42294     656.379825\n",
       "42295     213.730693\n",
       "42296     279.662391\n",
       "Length: 42297, dtype: float64"
      ]
     },
     "execution_count": 4,
     "metadata": {},
     "output_type": "execute_result"
    }
   ],
   "source": [
    "# show length of dataframe\n",
    "df_parcels.length"
   ]
  },
  {
   "cell_type": "code",
   "execution_count": null,
   "metadata": {},
   "outputs": [],
   "source": [
    "# subset dataframe"
   ]
  },
  {
   "cell_type": "code",
   "execution_count": 6,
   "metadata": {},
   "outputs": [],
   "source": [
    "# set CRS to WGS 84\n",
    "df_parcels = df_parcels.to_crs(epsg=4326)\n",
    "# df_buildings = df_buildings.to_crs(epsg=4326)"
   ]
  },
  {
   "cell_type": "code",
   "execution_count": 7,
   "metadata": {},
   "outputs": [
    {
     "name": "stderr",
     "output_type": "stream",
     "text": [
      "/var/folders/9g/r0ctqhfj26l910sgbwcdndq00000gn/T/ipykernel_5115/1599866429.py:2: UserWarning: Geometry is in a geographic CRS. Results from 'centroid' are likely incorrect. Use 'GeoSeries.to_crs()' to re-project geometries to a projected CRS before this operation.\n",
      "\n",
      "  df_parcels['center_point'] = df_parcels['geometry'].centroid\n"
     ]
    }
   ],
   "source": [
    "# extract lat and lon from the centerpoint\n",
    "df_parcels['center_point'] = df_parcels['geometry'].centroid\n",
    "df_parcels['lon'] = df_parcels['center_point'].x\n",
    "df_parcels['lat'] = df_parcels['center_point'].y"
   ]
  },
  {
   "cell_type": "code",
   "execution_count": 8,
   "metadata": {},
   "outputs": [
    {
     "name": "stdout",
     "output_type": "stream",
     "text": [
      "0    POLYGON ((-74.03823 40.69837, -74.03823 40.698...\n",
      "1    MULTIPOLYGON (((-74.04270 40.69006, -74.04263 ...\n",
      "2    POLYGON ((-74.02240 40.68442, -74.02404 40.683...\n",
      "3    POLYGON ((-74.00855 40.70236, -74.00864 40.702...\n",
      "4    POLYGON ((-74.00940 40.70242, -74.01023 40.703...\n",
      "Name: geometry, dtype: geometry\n",
      "0    POINT (-74.04087 40.69871)\n",
      "1    POINT (-74.04536 40.68992)\n",
      "2    POINT (-74.01909 40.68877)\n",
      "3    POINT (-74.00791 40.70291)\n",
      "4    POINT (-74.00915 40.70318)\n",
      "Name: center_point, dtype: geometry\n",
      "0    POINT (-74.04087 40.69871)\n",
      "1    POINT (-74.04536 40.68992)\n",
      "2    POINT (-74.01909 40.68877)\n",
      "3    POINT (-74.00791 40.70291)\n",
      "4    POINT (-74.00915 40.70318)\n",
      "Name: center_point, dtype: geometry\n",
      "0   -74.040870\n",
      "1   -74.045362\n",
      "2   -74.019093\n",
      "3   -74.007907\n",
      "4   -74.009151\n",
      "Name: lon, dtype: float64\n",
      "0    40.698711\n",
      "1    40.689919\n",
      "2    40.688773\n",
      "3    40.702907\n",
      "4    40.703185\n",
      "Name: lat, dtype: float64\n"
     ]
    }
   ],
   "source": [
    "# view df (optional)\n",
    "print(df_parcels['geometry'].head())\n",
    "print(df_parcels['center_point'].head())\n",
    "print(df_parcels['center_point'].head())\n",
    "print(df_parcels['lon'].head())\n",
    "print(df_parcels['lat'].head())"
   ]
  },
  {
   "cell_type": "code",
   "execution_count": null,
   "metadata": {},
   "outputs": [],
   "source": [
    "# display parcels as points\n",
    "points = pdk.Layer(\n",
    "    'ScatterplotLayer',\n",
    "    data=df_parcels,\n",
    "    get_position='[lon, lat]',\n",
    "    get_radius=10,\n",
    "    get_fill_color=[255, 0, 0],\n",
    "    auto_highlight=True,\n",
    "    pickable=True\n",
    ")\n",
    "\n",
    "# heatmap\n",
    "heat = pdk.Layer(\n",
    "    \"HeatmapLayer\",\n",
    "    data=df_parcels,\n",
    "    get_position=[\"lon\", \"lat\"],\n",
    "    #aggregation=pdk.types.String(\"MEAN\"),\n",
    "    aggregation=pdk.types.String(\"SUM\"),\n",
    "    get_weight=1, # Assuming equal weight for all points\n",
    "    #threshold=1,\n",
    "    opacity=0.9,\n",
    ")\n",
    "\n",
    "# hexagon\n",
    "hex = pdk.Layer(\n",
    "    \"HexagonLayer\",\n",
    "    data=df_parcels,\n",
    "    get_position=[\"lon\", \"lat\"],\n",
    "    radius=50,\n",
    "    opacity=0.9,\n",
    "    pickable=True\n",
    ")\n",
    "\n",
    "# Create the map\n",
    "view_state = pdk.ViewState(\n",
    "    latitude=40.76,\n",
    "    longitude=-74,\n",
    "    zoom=11,\n",
    "    max_zoom=20,\n",
    "    min_zoom=10\n",
    ")\n",
    "\n",
    "r = pdk.Deck(\n",
    "    layers=[hex],\n",
    "    initial_view_state=view_state\n",
    ")\n",
    "\n",
    "# Display the visualization in the notebook (warning: increases notebook size significantly)\n",
    "# r.show()\n",
    "\n",
    "# save the visualization to an HTML file (git-ignored)\n",
    "r.to_html('parcels-map.html')"
   ]
  }
 ],
 "metadata": {
  "kernelspec": {
   "display_name": "Python 3",
   "language": "python",
   "name": "python3"
  },
  "language_info": {
   "codemirror_mode": {
    "name": "ipython",
    "version": 3
   },
   "file_extension": ".py",
   "mimetype": "text/x-python",
   "name": "python",
   "nbconvert_exporter": "python",
   "pygments_lexer": "ipython3",
   "version": "3.11.6"
  },
  "orig_nbformat": 4
 },
 "nbformat": 4,
 "nbformat_minor": 2
}
