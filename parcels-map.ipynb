{
 "cells": [
  {
   "cell_type": "code",
   "execution_count": null,
   "metadata": {},
   "outputs": [],
   "source": [
    "# import libraries\n",
    "import geopandas as gpd\n",
    "import pydeck as pdk\n",
    "import os\n",
    "from dotenv import load_dotenv\n",
    "load_dotenv()"
   ]
  },
  {
   "cell_type": "code",
   "execution_count": null,
   "metadata": {},
   "outputs": [],
   "source": [
    "# load parcel data from project folder (Dropbox)\n",
    "df_parcels = gpd.read_file(os.environ.get('LOCAL_PATH')+\"Spatial Data/ny-parcels/NYC_2021_Tax_Parcels_SHP_2203/NewYork_2021_Tax_Parcels_SHP_2203.shp\")\n",
    "# df_buildings = gpd.read_file(os.environ.get('LOCAL_PATH')+\"Data/Building Footprints/NYC/geo_export_a80ea1a2-e8e0-4ffd-862c-1199433ac303.shp\")"
   ]
  },
  {
   "cell_type": "code",
   "execution_count": null,
   "metadata": {},
   "outputs": [],
   "source": [
    "# show length of dataframe\n",
    "df_parcels.length"
   ]
  },
  {
   "cell_type": "code",
   "execution_count": null,
   "metadata": {},
   "outputs": [],
   "source": [
    "# subset dataframe"
   ]
  },
  {
   "cell_type": "code",
   "execution_count": null,
   "metadata": {},
   "outputs": [],
   "source": [
    "# set CRS to WGS 84\n",
    "df_parcels = df_parcels.to_crs(epsg=4326)\n",
    "# df_buildings = df_buildings.to_crs(epsg=4326)"
   ]
  },
  {
   "cell_type": "code",
   "execution_count": null,
   "metadata": {},
   "outputs": [],
   "source": [
    "# extract lat and lon from the centerpoint\n",
    "df_parcels['center_point'] = df_parcels['geometry'].centroid\n",
    "df_parcels['lon'] = df_parcels['center_point'].x\n",
    "df_parcels['lat'] = df_parcels['center_point'].y"
   ]
  },
  {
   "cell_type": "code",
   "execution_count": null,
   "metadata": {},
   "outputs": [],
   "source": [
    "# view df (optional)\n",
    "print(df_parcels['geometry'].head())\n",
    "print(df_parcels['center_point'].head())\n",
    "print(df_parcels['center_point'].head())\n",
    "print(df_parcels['lon'].head())\n",
    "print(df_parcels['lat'].head())"
   ]
  },
  {
   "cell_type": "code",
   "execution_count": null,
   "metadata": {},
   "outputs": [],
   "source": [
    "# display parcels as points\n",
    "points = pdk.Layer(\n",
    "    'ScatterplotLayer',\n",
    "    data=df_parcels,\n",
    "    get_position='[lon, lat]',\n",
    "    get_radius=10,\n",
    "    get_fill_color=[255, 0, 0],\n",
    "    auto_highlight=True,\n",
    "    pickable=True\n",
    ")\n",
    "\n",
    "# heatmap\n",
    "heat = pdk.Layer(\n",
    "    \"HeatmapLayer\",\n",
    "    data=df_parcels,\n",
    "    get_position=[\"lon\", \"lat\"],\n",
    "    #aggregation=pdk.types.String(\"MEAN\"),\n",
    "    aggregation=pdk.types.String(\"SUM\"),\n",
    "    get_weight=1, # Assuming equal weight for all points\n",
    "    #threshold=1,\n",
    "    opacity=0.9,\n",
    ")\n",
    "\n",
    "# hexagon\n",
    "hex = pdk.Layer(\n",
    "    \"HexagonLayer\",\n",
    "    data=df_parcels,\n",
    "    get_position=[\"lon\", \"lat\"],\n",
    "    radius=50,\n",
    "    opacity=0.9,\n",
    "    pickable=True\n",
    ")\n",
    "\n",
    "# Create the map\n",
    "view_state = pdk.ViewState(\n",
    "    latitude=40.76,\n",
    "    longitude=-74,\n",
    "    zoom=11,\n",
    "    max_zoom=20,\n",
    "    min_zoom=10\n",
    ")\n",
    "\n",
    "r = pdk.Deck(\n",
    "    layers=[hex],\n",
    "    initial_view_state=view_state\n",
    ")\n",
    "\n",
    "# Display the visualization in the notebook (warning: increases notebook size significantly)\n",
    "# r.show()\n",
    "\n",
    "# save the visualization to an HTML file (git-ignored)\n",
    "r.to_html('parcels-map.html')"
   ]
  }
 ],
 "metadata": {
  "kernelspec": {
   "display_name": "Python 3",
   "language": "python",
   "name": "python3"
  },
  "language_info": {
   "codemirror_mode": {
    "name": "ipython",
    "version": 3
   },
   "file_extension": ".py",
   "mimetype": "text/x-python",
   "name": "python",
   "nbconvert_exporter": "python",
   "pygments_lexer": "ipython3",
   "version": "3.11.6"
  },
  "orig_nbformat": 4
 },
 "nbformat": 4,
 "nbformat_minor": 2
}
