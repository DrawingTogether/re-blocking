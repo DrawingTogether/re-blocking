{
 "cells": [
  {
   "cell_type": "code",
   "execution_count": 1,
   "metadata": {},
   "outputs": [
    {
     "name": "stderr",
     "output_type": "stream",
     "text": [
      "/opt/homebrew/lib/python3.11/site-packages/geopandas/_compat.py:124: UserWarning: The Shapely GEOS version (3.12.1-CAPI-1.18.1) is incompatible with the GEOS version PyGEOS was compiled with (3.10.4-CAPI-1.16.2). Conversions between both will be slow.\n",
      "  warnings.warn(\n"
     ]
    },
    {
     "data": {
      "text/plain": [
       "True"
      ]
     },
     "execution_count": 1,
     "metadata": {},
     "output_type": "execute_result"
    }
   ],
   "source": [
    "# import libraries\n",
    "import geopandas as gpd\n",
    "import pydeck as pdk\n",
    "import os\n",
    "from dotenv import load_dotenv\n",
    "load_dotenv()"
   ]
  },
  {
   "cell_type": "code",
   "execution_count": 2,
   "metadata": {},
   "outputs": [],
   "source": [
    "# load parcel data from project folder (Dropbox)\n",
    "df_parcels = gpd.read_file(os.environ.get('LOCAL_PATH')+\"Spatial Data/ny-parcels/NYC_2021_Tax_Parcels_SHP_2203/NewYork_2021_Tax_Parcels_SHP_2203.shp\")"
   ]
  },
  {
   "cell_type": "code",
   "execution_count": 3,
   "metadata": {},
   "outputs": [
    {
     "data": {
      "text/plain": [
       "0        1921.544489\n",
       "1        1200.788083\n",
       "2        3741.111736\n",
       "3         369.612212\n",
       "4         502.254754\n",
       "            ...     \n",
       "42292     207.048801\n",
       "42293     159.618447\n",
       "42294     656.379825\n",
       "42295     213.730693\n",
       "42296     279.662391\n",
       "Length: 42297, dtype: float64"
      ]
     },
     "execution_count": 3,
     "metadata": {},
     "output_type": "execute_result"
    }
   ],
   "source": [
    "# show length of dataframe\n",
    "df_parcels.length"
   ]
  },
  {
   "cell_type": "code",
   "execution_count": 4,
   "metadata": {},
   "outputs": [],
   "source": [
    "# subset data frame; set to count from your image generation script\n",
    "df_parcels = df_parcels.iloc[:25000] "
   ]
  },
  {
   "cell_type": "code",
   "execution_count": null,
   "metadata": {},
   "outputs": [],
   "source": [
    "# verify subset length\n",
    "df_parcels.length"
   ]
  },
  {
   "cell_type": "code",
   "execution_count": null,
   "metadata": {},
   "outputs": [],
   "source": [
    "# set CRS to WGS 84\n",
    "df_parcels = df_parcels.to_crs(epsg=4326)"
   ]
  },
  {
   "cell_type": "code",
   "execution_count": null,
   "metadata": {},
   "outputs": [],
   "source": [
    "# extract lat and lon from the centerpoint\n",
    "df_parcels['center_point'] = df_parcels['geometry'].centroid\n",
    "df_parcels['lon'] = df_parcels['center_point'].x\n",
    "df_parcels['lat'] = df_parcels['center_point'].y"
   ]
  },
  {
   "cell_type": "code",
   "execution_count": null,
   "metadata": {},
   "outputs": [],
   "source": [
    "# view df (optional)\n",
    "print(df_parcels['geometry'].head())\n",
    "print(df_parcels['center_point'].head())\n",
    "print(df_parcels['center_point'].head())\n",
    "print(df_parcels['lon'].head())\n",
    "print(df_parcels['lat'].head())"
   ]
  },
  {
   "cell_type": "code",
   "execution_count": null,
   "metadata": {},
   "outputs": [],
   "source": [
    "# display parcels as points\n",
    "points = pdk.Layer(\n",
    "    'ScatterplotLayer',\n",
    "    data=df_parcels,\n",
    "    get_position='[lon, lat]',\n",
    "    get_radius=10,\n",
    "    get_fill_color=[255, 0, 0],\n",
    "    auto_highlight=True,\n",
    "    pickable=True\n",
    ")\n",
    "\n",
    "# heatmap\n",
    "heat = pdk.Layer(\n",
    "    \"HeatmapLayer\",\n",
    "    data=df_parcels,\n",
    "    get_position=[\"lon\", \"lat\"],\n",
    "    #aggregation=pdk.types.String(\"MEAN\"),\n",
    "    aggregation=pdk.types.String(\"SUM\"),\n",
    "    get_weight=1, # Assuming equal weight for all points\n",
    "    #threshold=1,\n",
    "    opacity=0.9,\n",
    ")\n",
    "\n",
    "# hexagon\n",
    "hex = pdk.Layer(\n",
    "    \"HexagonLayer\",\n",
    "    data=df_parcels,\n",
    "    get_position=[\"lon\", \"lat\"],\n",
    "    radius=50,\n",
    "    opacity=0.9,\n",
    "    pickable=True\n",
    ")\n",
    "\n",
    "# Create the map\n",
    "view = pdk.data_utils.compute_view(df_parcels[[\"lon\", \"lat\"]])\n",
    "view.zoom=11\n",
    "view.max_zoom=20\n",
    "view.min_zoom=10\n",
    "\n",
    "r = pdk.Deck(\n",
    "    layers=[hex], # choose between points, heat, or hex\n",
    "    initial_view_state=view,\n",
    "    #map_provider=\"mapbox\",\n",
    "    #map_style=pdk.map_styles.SATELLITE\n",
    ")\n",
    "\n",
    "# Display the visualization in the notebook (warning: increases notebook size significantly, clear output to reduce size)\n",
    "# r.show()\n",
    "\n",
    "# save the visualization to an HTML file (git-ignored)\n",
    "r.to_html('parcels-map.html')"
   ]
  }
 ],
 "metadata": {
  "kernelspec": {
   "display_name": "Python 3",
   "language": "python",
   "name": "python3"
  },
  "language_info": {
   "codemirror_mode": {
    "name": "ipython",
    "version": 3
   },
   "file_extension": ".py",
   "mimetype": "text/x-python",
   "name": "python",
   "nbconvert_exporter": "python",
   "pygments_lexer": "ipython3",
   "version": "3.11.6"
  },
  "orig_nbformat": 4
 },
 "nbformat": 4,
 "nbformat_minor": 2
}
