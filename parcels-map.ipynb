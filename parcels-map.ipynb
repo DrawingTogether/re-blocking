{
 "cells": [
  {
   "cell_type": "code",
   "execution_count": 1,
   "metadata": {},
   "outputs": [
    {
     "name": "stderr",
     "output_type": "stream",
     "text": [
      "/opt/homebrew/lib/python3.11/site-packages/geopandas/_compat.py:124: UserWarning: The Shapely GEOS version (3.12.0-CAPI-1.18.0) is incompatible with the GEOS version PyGEOS was compiled with (3.10.4-CAPI-1.16.2). Conversions between both will be slow.\n",
      "  warnings.warn(\n"
     ]
    },
    {
     "data": {
      "text/plain": [
       "True"
      ]
     },
     "execution_count": 1,
     "metadata": {},
     "output_type": "execute_result"
    }
   ],
   "source": [
    "# import libraries\n",
    "import geopandas as gpd\n",
    "import pydeck as pdk\n",
    "import os\n",
    "from dotenv import load_dotenv\n",
    "load_dotenv() # loads .env file from main folder for Mapbox API key and local project path"
   ]
  },
  {
   "cell_type": "code",
   "execution_count": 2,
   "metadata": {},
   "outputs": [],
   "source": [
    "# load parcel and building data from project folder (Dropbox)\n",
    "df_parcels = gpd.read_file(os.environ.get('LOCAL_PATH')+\"Data/Parcels/NYC_2021_Tax_Parcels_SHP_2203/NewYork_2021_Tax_Parcels_SHP_2203.shp\")\n",
    "# df_buildings = gpd.read_file(os.environ.get('LOCAL_PATH')+\"Data/Building Footprints/NYC/geo_export_a80ea1a2-e8e0-4ffd-862c-1199433ac303.shp\")"
   ]
  },
  {
   "cell_type": "code",
   "execution_count": null,
   "metadata": {},
   "outputs": [],
   "source": [
    "# join dataframes function\n",
    "def join_parcels_buildings(parcels, buildings):\n",
    "    \"\"\"Join parcels and buildings dataframes.\"\"\"\n",
    "    parcels_buildings = buildings.sjoin(parcels, how=\"left\", predicate=\"within\")\n",
    "    return parcels_buildings"
   ]
  },
  {
   "cell_type": "code",
   "execution_count": null,
   "metadata": {},
   "outputs": [],
   "source": [
    "# set CRS to web mercator\n",
    "df_parcels = df_parcels.to_crs(epsg=3857)\n",
    "df_buildings = df_buildings.to_crs(epsg=3857)"
   ]
  },
  {
   "cell_type": "code",
   "execution_count": null,
   "metadata": {},
   "outputs": [],
   "source": [
    "# perform join\n",
    "df_parcels_buildings = join_parcels_buildings(df_parcels, df_buildings)"
   ]
  },
  {
   "cell_type": "code",
   "execution_count": null,
   "metadata": {},
   "outputs": [],
   "source": [
    "# subset the data frames based on a buffer\n",
    "def subset(df, df_buildings, index, distance = 75):\n",
    "    selected_feature = df.loc[index]\n",
    "    geometry_buffer = selected_feature.geometry.buffer(distance)\n",
    "    geometry_bounds = selected_feature.geometry.buffer(distance-70)\n",
    "\n",
    "    return df[df.within(geometry_buffer)], df_buildings[df_buildings.within(geometry_buffer)], geometry_bounds.bounds"
   ]
  },
  {
   "cell_type": "code",
   "execution_count": null,
   "metadata": {},
   "outputs": [],
   "source": [
    "parcels = pdk.Layer(\n",
    "    \"HeatmapLayer\",\n",
    "    data=data,\n",
    "    opacity=0.9,\n",
    "    get_position=[\"lng\", \"lat\"],\n",
    "    aggregation=pdk.types.String(\"MEAN\"),\n",
    "    color_range=COLOR_BREWER_BLUE_SCALE,\n",
    "    threshold=1,\n",
    "    get_weight=\"weight\",\n",
    "    pickable=True,\n",
    ")\n",
    "\n",
    "heatmap_layer = pdk.Layer(\n",
    "    \"HeatmapLayer\",\n",
    "    data=data,\n",
    "    get_position=[\"lon\", \"lat\"],\n",
    "    get_weight=1,  # Assuming equal weight for all points\n",
    "    radius_pixels=50,  # You can adjust the radius as needed\n",
    "    opacity=0.9,\n",
    ")"
   ]
  },
  {
   "cell_type": "code",
   "execution_count": 3,
   "metadata": {},
   "outputs": [],
   "source": [
    "# set CRS to WGS 84\n",
    "df_parcels = df_parcels.to_crs(epsg=4326)\n",
    "# df_buildings = df_buildings.to_crs(epsg=4326)"
   ]
  },
  {
   "cell_type": "code",
   "execution_count": 4,
   "metadata": {},
   "outputs": [
    {
     "name": "stderr",
     "output_type": "stream",
     "text": [
      "/var/folders/9g/r0ctqhfj26l910sgbwcdndq00000gn/T/ipykernel_8474/1599866429.py:2: UserWarning: Geometry is in a geographic CRS. Results from 'centroid' are likely incorrect. Use 'GeoSeries.to_crs()' to re-project geometries to a projected CRS before this operation.\n",
      "\n",
      "  df_parcels['center_point'] = df_parcels['geometry'].centroid\n"
     ]
    }
   ],
   "source": [
    "# extract lat and lon from the centerpoint\n",
    "df_parcels['center_point'] = df_parcels['geometry'].centroid\n",
    "df_parcels['lon'] = df_parcels['center_point'].x\n",
    "df_parcels['lat'] = df_parcels['center_point'].y"
   ]
  },
  {
   "cell_type": "code",
   "execution_count": null,
   "metadata": {},
   "outputs": [],
   "source": [
    "# view df\n",
    "print(df_parcels['geometry'].head())\n",
    "print(df_parcels['center_point'].head())\n",
    "print(df_parcels['center_point'].head())\n",
    "print(df_parcels['lon'].head())\n",
    "print(df_parcels['lat'].head())"
   ]
  },
  {
   "cell_type": "code",
   "execution_count": null,
   "metadata": {},
   "outputs": [],
   "source": [
    "# Create a PyDeck layer\n",
    "layer = pdk.Layer(\n",
    "    'ScatterplotLayer',\n",
    "    data=df_parcels,\n",
    "    get_position='[lon, lat]',\n",
    "    get_radius=10,\n",
    "    get_fill_color=[255, 0, 0],\n",
    "    auto_highlight=True,\n",
    "    pickable=True\n",
    ")\n",
    "\n",
    "# Create the map\n",
    "view_state = pdk.ViewState(\n",
    "    latitude=40.76,\n",
    "    longitude=-74,\n",
    "    zoom=11,\n",
    "    max_zoom=12,\n",
    "    min_zoom=10\n",
    ")\n",
    "\n",
    "r = pdk.Deck(\n",
    "    layers=[layer],\n",
    "    initial_view_state=view_state\n",
    ")\n",
    "\n",
    "# Display the visualization in the notebook (warning: increases notebook size significantly)\n",
    "# r.show()\n",
    "\n",
    "# save the visualization to an HTML file (git-ignored)\n",
    "r.to_html('parcels-map.html')"
   ]
  }
 ],
 "metadata": {
  "kernelspec": {
   "display_name": "Python 3",
   "language": "python",
   "name": "python3"
  },
  "language_info": {
   "codemirror_mode": {
    "name": "ipython",
    "version": 3
   },
   "file_extension": ".py",
   "mimetype": "text/x-python",
   "name": "python",
   "nbconvert_exporter": "python",
   "pygments_lexer": "ipython3",
   "version": "3.11.6"
  },
  "orig_nbformat": 4
 },
 "nbformat": 4,
 "nbformat_minor": 2
}
