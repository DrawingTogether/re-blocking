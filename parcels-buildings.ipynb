{
 "cells": [
  {
   "cell_type": "code",
   "execution_count": 1,
   "metadata": {},
   "outputs": [],
   "source": [
    "# import libraries\n",
    "import matplotlib.pyplot as plt\n",
    "import cartopy.crs as ccrs\n",
    "from cartopy.io.img_tiles import MapboxTiles\n",
    "import geopandas as gpd\n",
    "import random"
   ]
  },
  {
   "cell_type": "code",
   "execution_count": null,
   "metadata": {},
   "outputs": [],
   "source": [
    "# set user dir (WIP)\n",
    "user_dir = \"/Users/ls/Dropbox (MIT)/02 Work/LCAU:SERC/Million Neighborhoods:DP/Data\""
   ]
  },
  {
   "cell_type": "code",
   "execution_count": 2,
   "metadata": {},
   "outputs": [],
   "source": [
    "# load parcel and building data\n",
    "df_parcels = gpd.read_file(\"/Users/ls/Dropbox (MIT)/02 Work/LCAU:SERC/Million Neighborhoods:DP/Data/Parcels/NYC_2021_Tax_Parcels_SHP_2203/NewYork_2021_Tax_Parcels_SHP_2203.shp\")\n",
    "df_buildings = gpd.read_file(\"/Users/ls/Dropbox (MIT)/02 Work/LCAU:SERC/Million Neighborhoods:DP/Data/Building Footprints/NYC/geo_export_a80ea1a2-e8e0-4ffd-862c-1199433ac303.shp\")"
   ]
  },
  {
   "cell_type": "code",
   "execution_count": null,
   "metadata": {},
   "outputs": [],
   "source": [
    "# set random RGB color for the parcels\n",
    "def random_hex_color():\n",
    "  r = random.randint(0, 255)\n",
    "  g = random.randint(0, 255)\n",
    "  b = random.randint(0, 255)\n",
    "  return \"#{:02x}{:02x}{:02x}\".format(r, g, b)\n",
    "random_hex_color()\n",
    "df_parcels['color'] = [ random_hex_color() for i in range(len(df_parcels)) ]"
   ]
  },
  {
   "cell_type": "code",
   "execution_count": null,
   "metadata": {},
   "outputs": [],
   "source": [
    "# set CRS to web mercator\n",
    "df_parcels = df_parcels.to_crs(epsg=3857)\n",
    "df_buildings = df_buildings.to_crs(epsg=3857)"
   ]
  },
  {
   "cell_type": "code",
   "execution_count": null,
   "metadata": {},
   "outputs": [],
   "source": [
    "# load the background map and plot the geometries\n",
    "def map_maker(df_parcels, df_buildings, scale=10):\n",
    "    access_token = \"your-key-here\"\n",
    "    tiler = MapboxTiles(access_token, 'satellite-v9')\n",
    "    crs_epsg = ccrs.epsg(\"3857\")\n",
    "\n",
    "    mercator = tiler.crs\n",
    "\n",
    "    fig = plt.figure()\n",
    "    ax = fig.add_subplot(1, 1, 1, projection=mercator)\n",
    "    # change figure size of the subplot\n",
    "    fig.set_size_inches(18.5, 10.5)\n",
    "\n",
    "    bounds = df_parcels.total_bounds\n",
    "    ax.set_extent([bounds[0], bounds[2], bounds[1], bounds[3]], crs=ccrs.epsg(\"3857\"))\n",
    "    # loop through the parcels and plot them\n",
    "    for row in df_parcels.itertuples():\n",
    "        # df_parcels.iloc[i:i+1].plot(color=df_parcels.iloc[i:i+1].color.values[0])\n",
    "        geometry = row.geometry\n",
    "        color = row.color\n",
    "        ax.add_geometries(geometry, crs = crs_epsg, facecolor=color) # for Lat/Lon data.\n",
    "\n",
    "    ax.add_geometries(df_buildings.geometry, crs = crs_epsg, facecolor='black', edgecolor='white', linewidth=1.5, alpha=1)\n",
    "\n",
    "    # add the Mabox tiles to the axis at zoom level 10 (Mapbox has 23 zoom levels)\n",
    "    ax.add_image(tiler, scale)\n",
    "\n",
    "    # ax.coastlines('10m')\n",
    "    plt.show()"
   ]
  },
  {
   "cell_type": "code",
   "execution_count": null,
   "metadata": {},
   "outputs": [],
   "source": [
    "# subset the data frames based on a buffer\n",
    "def subset(df, df_buildings, index, distance = 75):\n",
    "    selected_feature = df.loc[index]\n",
    "    geometry_buffer = selected_feature.geometry.buffer(distance)\n",
    "\n",
    "    return df[df.within(geometry_buffer)], df_buildings[df_buildings.within(geometry_buffer)]"
   ]
  },
  {
   "cell_type": "code",
   "execution_count": null,
   "metadata": {},
   "outputs": [],
   "source": [
    "# Index will correspond to each of the parcel indices in the data frame. \n",
    "# distance is in meters\n",
    "subset_features = subset(df_parcels, df_buildings, 2000, 200)\n",
    "map_maker(subset_features[0], subset_features[1], 18)"
   ]
  }
 ],
 "metadata": {
  "kernelspec": {
   "display_name": "Python 3",
   "language": "python",
   "name": "python3"
  },
  "language_info": {
   "codemirror_mode": {
    "name": "ipython",
    "version": 3
   },
   "file_extension": ".py",
   "mimetype": "text/x-python",
   "name": "python",
   "nbconvert_exporter": "python",
   "pygments_lexer": "ipython3",
   "version": "3.10.12"
  },
  "orig_nbformat": 4
 },
 "nbformat": 4,
 "nbformat_minor": 2
}
