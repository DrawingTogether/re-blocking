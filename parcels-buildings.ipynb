{
 "cells": [
  {
   "cell_type": "code",
   "execution_count": 1,
   "metadata": {},
   "outputs": [],
   "source": [
    "# import libraries\n",
    "import matplotlib.pyplot as plt\n",
    "import cartopy.crs as ccrs\n",
    "from cartopy.io.img_tiles import MapboxTiles\n",
    "import geopandas as gpd\n",
    "import os\n",
    "from dotenv import load_dotenv\n",
    "load_dotenv() # loads .env file from main folder for Mapbox API key and local project path\n",
    "import random\n",
    "import numpy as np"
   ]
  },
  {
   "cell_type": "code",
   "execution_count": 2,
   "metadata": {},
   "outputs": [],
   "source": [
    "# load parcel and building data from project folder (Dropbox)\n",
    "df_parcels = gpd.read_file(os.environ.get('LOCAL_PATH')+\"Data/Parcels/NYC_2021_Tax_Parcels_SHP_2203/NewYork_2021_Tax_Parcels_SHP_2203.shp\")\n",
    "df_buildings = gpd.read_file(os.environ.get('LOCAL_PATH')+\"Data/Building Footprints/NYC/geo_export_a80ea1a2-e8e0-4ffd-862c-1199433ac303.shp\")"
   ]
  },
  {
   "cell_type": "code",
   "execution_count": 3,
   "metadata": {},
   "outputs": [],
   "source": [
    "# set random RGB color for the parcels\n",
    "def random_hex_color():\n",
    "  r = random.randint(0, 255)\n",
    "  g = random.randint(0, 255)\n",
    "  b = random.randint(0, 255)\n",
    "  return \"#{:02x}{:02x}{:02x}\".format(r, g, b)\n",
    "random_hex_color()\n",
    "df_parcels['color'] = [ random_hex_color() for i in range(len(df_parcels)) ]"
   ]
  },
  {
   "cell_type": "code",
   "execution_count": 4,
   "metadata": {},
   "outputs": [],
   "source": [
    "# set CRS to web mercator\n",
    "df_parcels = df_parcels.to_crs(epsg=3857)\n",
    "df_buildings = df_buildings.to_crs(epsg=3857)"
   ]
  },
  {
   "cell_type": "code",
   "execution_count": 23,
   "metadata": {},
   "outputs": [
    {
     "name": "stdout",
     "output_type": "stream",
     "text": [
      "42297\n"
     ]
    }
   ],
   "source": [
    "# show df length\n",
    "print(df_parcels.shape[0])"
   ]
  },
  {
   "cell_type": "code",
   "execution_count": 5,
   "metadata": {},
   "outputs": [],
   "source": [
    "def add_parcels(ax, df_parcels, crs_epsg):\n",
    "    # loop through the parcels and plot them\n",
    "    for row in df_parcels.itertuples():\n",
    "        geometry = row.geometry\n",
    "        color = row.color\n",
    "        ax.add_geometries(geometry, crs = crs_epsg, facecolor=color) # for Lat/Lon data."
   ]
  },
  {
   "cell_type": "code",
   "execution_count": 41,
   "metadata": {},
   "outputs": [],
   "source": [
    "# load the background map and plot the geometries\n",
    "def map_maker(df_parcels, df_buildings, bounds, index, scale=10, feature_type='both'):\n",
    "    access_token = os.environ.get('MAPBOX_ACCESS_TOKEN')\n",
    "    tiler = MapboxTiles(access_token, 'satellite-v9')\n",
    "    crs_epsg = ccrs.epsg('3857')\n",
    "\n",
    "    mercator = tiler.crs\n",
    "\n",
    "    fig = plt.figure()\n",
    "    ax = fig.add_subplot(1, 1, 1, projection=mercator)\n",
    "\n",
    "    # change figure size of the subplot\n",
    "    my_dpi=96\n",
    "    fig.set_size_inches(7, 7)\n",
    "    # fig.figsize = (512/my_dpi, 512/my_dpi), dpi=my_dpi\n",
    "\n",
    "    # calculate the centroid and max distance of the bounds\n",
    "    dist1 = bounds[2]-bounds[0]\n",
    "    dist2 = bounds[3]-bounds[1]\n",
    "    max_dist = max(dist1, dist2)/2\n",
    "\n",
    "    # calculate the centroid of the bounds\n",
    "    centroid_x = (bounds[2]+bounds[0])/2\n",
    "    centroid_y = (bounds[3]+bounds[1])/2\n",
    "\n",
    "    # bounds = df_parcels.total_bounds with offset to create same aspect ratio\n",
    "    ax.set_extent([centroid_x-max_dist, centroid_x+max_dist, centroid_y-max_dist, centroid_y+max_dist], crs=ccrs.epsg('3857'))\n",
    "\n",
    "    if feature_type == 'parcels': add_parcels(ax, df_parcels, crs_epsg)\n",
    "    if feature_type == 'buildings': ax.add_geometries(df_buildings.geometry, crs = crs_epsg, facecolor='black', edgecolor='white', linewidth=1.5, alpha=1)\n",
    "    if feature_type == 'both': \n",
    "        add_parcels(ax, df_parcels, crs_epsg)\n",
    "        ax.add_geometries(df_buildings.geometry, crs = crs_epsg, facecolor='black', edgecolor='white', linewidth=1.5, alpha=1)\n",
    "\n",
    "    # add the Mabox tiles to the axis at zoom level 10 (Mapbox has 23 zoom levels)\n",
    "    ax.add_image(tiler, scale)\n",
    "\n",
    "    # set the path to the folder where the images will be saved\n",
    "    output_folder = 'img/'\n",
    "\n",
    "    # save the figure\n",
    "    plt.savefig(output_folder + f'parcel_{index}.jpg', bbox_inches='tight', pad_inches = 0, dpi = my_dpi)\n",
    "\n",
    "    # close the figure\n",
    "    plt.close(fig)\n",
    "\n",
    "    # plt.show()"
   ]
  },
  {
   "cell_type": "code",
   "execution_count": 7,
   "metadata": {},
   "outputs": [],
   "source": [
    "# subset the data frames based on a buffer\n",
    "def subset(df, df_buildings, index, distance = 75):\n",
    "    selected_feature = df.loc[index]\n",
    "    geometry_buffer = selected_feature.geometry.buffer(distance)\n",
    "    geometry_bounds = selected_feature.geometry.buffer(distance-70)\n",
    "\n",
    "    return df[df.within(geometry_buffer)], df_buildings[df_buildings.within(geometry_buffer)], geometry_bounds.bounds"
   ]
  },
  {
   "cell_type": "code",
   "execution_count": 51,
   "metadata": {},
   "outputs": [],
   "source": [
    "# create a folder to store the images\n",
    "# os.mkdir('img')\n",
    "\n",
    "# index will correspond to each of the parcel indices in the data frame. \n",
    "for i in range (0, 9999):\n",
    "    subset_features = subset(df_parcels, df_buildings, i, 200)\n",
    "    map_maker(subset_features[0], subset_features[1], subset_features[2], i, 18)"
   ]
  }
 ],
 "metadata": {
  "kernelspec": {
   "display_name": "Python 3",
   "language": "python",
   "name": "python3"
  },
  "language_info": {
   "codemirror_mode": {
    "name": "ipython",
    "version": 3
   },
   "file_extension": ".py",
   "mimetype": "text/x-python",
   "name": "python",
   "nbconvert_exporter": "python",
   "pygments_lexer": "ipython3",
   "version": "3.11.4"
  },
  "orig_nbformat": 4
 },
 "nbformat": 4,
 "nbformat_minor": 2
}
