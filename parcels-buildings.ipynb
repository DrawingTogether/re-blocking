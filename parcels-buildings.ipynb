{
 "cells": [
  {
   "cell_type": "code",
   "execution_count": 1,
   "metadata": {},
   "outputs": [
    {
     "name": "stderr",
     "output_type": "stream",
     "text": [
      "ERROR 1: PROJ: proj_create_from_database: Open of /home/demircantas/anaconda3/envs/VAE2/share/proj failed\n"
     ]
    }
   ],
   "source": [
    "# import libraries\n",
    "import matplotlib.pyplot as plt\n",
    "import cartopy.crs as ccrs\n",
    "from cartopy.io.img_tiles import MapboxTiles\n",
    "import geopandas as gpd\n",
    "import random"
   ]
  },
  {
   "cell_type": "code",
   "execution_count": 2,
   "metadata": {},
   "outputs": [],
   "source": [
    "# set user dir (WIP)\n",
    "# user_dir = \"/Users/ls/Dropbox (MIT)/02 Work/LCAU:SERC/Million Neighborhoods:DP/Data\""
   ]
  },
  {
   "cell_type": "code",
   "execution_count": 3,
   "metadata": {},
   "outputs": [],
   "source": [
    "# load parcel and building data\n",
    "# df_parcels = gpd.read_file(\"/Users/ls/Dropbox (MIT)/02 Work/LCAU:SERC/Million Neighborhoods:DP/Data/Parcels/NYC_2021_Tax_Parcels_SHP_2203/NewYork_2021_Tax_Parcels_SHP_2203.shp\")\n",
    "# df_buildings = gpd.read_file(\"/Users/ls/Dropbox (MIT)/02 Work/LCAU:SERC/Million Neighborhoods:DP/Data/Building Footprints/NYC/geo_export_a80ea1a2-e8e0-4ffd-862c-1199433ac303.shp\")\n",
    "\n",
    "df_parcels = gpd.read_file(\"data/NewYork_2021_Tax_Parcels_SHP_2203.shp\")\n",
    "df_buildings = gpd.read_file(\"data/geo_export_a80ea1a2-e8e0-4ffd-862c-1199433ac303.shp\")"
   ]
  },
  {
   "cell_type": "code",
   "execution_count": 4,
   "metadata": {},
   "outputs": [],
   "source": [
    "# set random RGB color for the parcels\n",
    "def random_hex_color():\n",
    "  r = random.randint(0, 255)\n",
    "  g = random.randint(0, 255)\n",
    "  b = random.randint(0, 255)\n",
    "  return \"#{:02x}{:02x}{:02x}\".format(r, g, b)\n",
    "random_hex_color()\n",
    "df_parcels['color'] = [ random_hex_color() for i in range(len(df_parcels)) ]"
   ]
  },
  {
   "cell_type": "code",
   "execution_count": 5,
   "metadata": {},
   "outputs": [],
   "source": [
    "def join_parcels_buildings(parcels, buildings):\n",
    "    \"\"\"Join parcels and buildings dataframes.\"\"\"\n",
    "    parcels_buildings = buildings.sjoin(parcels, how=\"left\", predicate=\"within\")\n",
    "    return parcels_buildings"
   ]
  },
  {
   "cell_type": "code",
   "execution_count": null,
   "metadata": {},
   "outputs": [],
   "source": [
    "# df_parcels.crs = {'init': 'epsg:26918'}\n",
    "# df_buildings.crs = {'init': 'epsg:4326'}\n",
    "# WGS84dd = {'init': 'epsg:4326'}"
   ]
  },
  {
   "cell_type": "code",
   "execution_count": 7,
   "metadata": {},
   "outputs": [],
   "source": [
    "# set CRS to web mercator\n",
    "df_parcels = df_parcels.to_crs(epsg=3857)\n",
    "df_buildings = df_buildings.to_crs(epsg=3857)"
   ]
  },
  {
   "cell_type": "code",
   "execution_count": 10,
   "metadata": {},
   "outputs": [],
   "source": [
    "df_parcels_buildings = join_parcels_buildings(df_parcels, df_buildings)\n",
    "df_parcels_buildings['color'] = [ random_hex_color() for i in range(len(df_parcels_buildings)) ]"
   ]
  },
  {
   "cell_type": "code",
   "execution_count": 24,
   "metadata": {},
   "outputs": [],
   "source": [
    "def add_parcels(ax, df_parcels, crs_epsg):\n",
    "    # loop through the parcels and plot them\n",
    "    for row in df_parcels.itertuples():\n",
    "        geometry = row.geometry\n",
    "        color = row.color\n",
    "        ax.add_geometries(geometry, crs = crs_epsg, facecolor=color) # for Lat/Lon data."
   ]
  },
  {
   "cell_type": "code",
   "execution_count": 37,
   "metadata": {},
   "outputs": [],
   "source": [
    "# load the background map and plot the geometries\n",
    "# def map_maker(df_parcels, df_buildings, scale=10):\n",
    "def map_maker(df_parcels, df_buildings, bounds, index, scale=10, feature_type='both'):\n",
    "    access_token = \"pk.eyJ1IjoiZGVtaXJjYW50YXMiLCJhIjoiY2xrazNudjIzMDA5NjNvcG1lOHZuanVjMSJ9._t6VB8FA4_VAyJOJ9b92jQ\"\n",
    "    tiler = MapboxTiles(access_token, 'satellite-v9')\n",
    "    crs_epsg = ccrs.epsg('3857')\n",
    "\n",
    "    mercator = tiler.crs\n",
    "\n",
    "    fig = plt.figure()\n",
    "    ax = fig.add_subplot(1, 1, 1, projection=mercator)\n",
    "\n",
    "    # change figure size of the subplot\n",
    "    my_dpi=96\n",
    "    fig.set_size_inches(7, 7)\n",
    "    # fig.figsize = (512/my_dpi, 512/my_dpi), dpi=my_dpi\n",
    "\n",
    "    # calculate the centroid and max distance of the bounds\n",
    "    dist1 = bounds[2]-bounds[0]\n",
    "    dist2 = bounds[3]-bounds[1]\n",
    "    max_dist = max(dist1, dist2)/2\n",
    "\n",
    "    # calculate the centroid of the bounds\n",
    "    centroid_x = (bounds[2]+bounds[0])/2\n",
    "    centroid_y = (bounds[3]+bounds[1])/2\n",
    "\n",
    "    # bounds = df_parcels.total_bounds with offset to create same aspect ratio\n",
    "    ax.set_extent([centroid_x-max_dist, centroid_x+max_dist, centroid_y-max_dist, centroid_y+max_dist], crs=ccrs.epsg('3857'))\n",
    "\n",
    "    # if feature_type == 'parcels': add_parcels(ax, df_parcels, crs_epsg)\n",
    "    if feature_type == 'buildings': ax.add_geometries(df_buildings.geometry, crs = crs_epsg, facecolor='black', edgecolor='white', linewidth=1.5, alpha=1)\n",
    "    if feature_type == 'both': \n",
    "        add_parcels(ax, df_parcels, crs_epsg)\n",
    "        # ax.add_geometries(df_buildings.geometry, crs = crs_epsg, facecolor='white', edgecolor='black', linewidth=2.5, alpha=1)\n",
    "\n",
    "    # add the Mapbox tiles to the axis at zoom level 10 (Mapbox has 23 zoom levels)\n",
    "    ax.add_image(tiler, scale)\n",
    "\n",
    "    # set the path to the folder where the images will be saved\n",
    "    output_folder = 'img/'\n",
    "\n",
    "    # save the figure\n",
    "    plt.savefig(output_folder + f'parcel_{index}.jpg', bbox_inches='tight', pad_inches = 0, dpi = my_dpi)\n",
    "    # plt.savefig(output_folder + f'building_{index}.jpg', bbox_inches='tight', pad_inches = 0, dpi = my_dpi)\n",
    "\n",
    "    # close the figure\n",
    "    plt.close(fig)\n",
    "\n",
    "    # ax.coastlines('10m')\n",
    "    plt.show()"
   ]
  },
  {
   "cell_type": "code",
   "execution_count": 38,
   "metadata": {},
   "outputs": [],
   "source": [
    "# subset the data frames based on a buffer\n",
    "def subset(df, df_buildings, index, distance = 75):\n",
    "    selected_feature = df.loc[index]\n",
    "    geometry_buffer = selected_feature.geometry.buffer(distance)\n",
    "    geometry_bounds = selected_feature.geometry.buffer(distance-70)\n",
    "\n",
    "    return df[df.within(geometry_buffer)], df_buildings[df_buildings.within(geometry_buffer)], geometry_bounds.bounds"
   ]
  },
  {
   "cell_type": "markdown",
   "metadata": {},
   "source": [
    "#### Alternative subset function from [Colab Notebook](https://drive.google.com/file/d/1j1ao_z13UqCxdtX8_GjYH9MC-7PhNsth/view?usp=sharing)"
   ]
  },
  {
   "cell_type": "code",
   "execution_count": 39,
   "metadata": {},
   "outputs": [],
   "source": [
    "# alternative subset function for faster rendering\n",
    "def subset_alt(df, df_buildings, index, distance = 75):\n",
    "    selected_feature = df.loc[index, 'geometry']\n",
    "    geometry_bounds = selected_feature.total_bounds\n",
    "    filtered_df = df.cx[geometry_bounds[0] - distance: geometry_bounds[2] + distance, geometry_bounds[1] - distance: geometry_bounds[3] + distance]\n",
    "    filtered_df_buildings = df_buildings.cx[geometry_bounds[0] - distance: geometry_bounds[2] + distance, geometry_bounds[1] - distance: geometry_bounds[3] + distance]\n",
    "\n",
    "    return filtered_df, filtered_df_buildings, geometry_bounds"
   ]
  },
  {
   "cell_type": "code",
   "execution_count": 40,
   "metadata": {},
   "outputs": [],
   "source": [
    "# Index will correspond to each of the parcel indices in the data frame. \n",
    "# distance is in meters\n",
    "# subset_features = subset(df_parcels, df_buildings, 1999, 200)\n",
    "# map_maker(subset_features[0], subset_features[1], 18)"
   ]
  },
  {
   "cell_type": "code",
   "execution_count": 41,
   "metadata": {},
   "outputs": [],
   "source": [
    "# create a folder to store the images\n",
    "# os.mkdir('img')\n",
    "\n",
    "# index will correspond to each of the parcel indices in the data frame. \n",
    "for i in range (0, 500):\n",
    "    # subset_features = subset(df_parcels, df_parcels_buildings, i, 200)\n",
    "    subset_features = subset(df_parcels, df_buildings, i, 200)\n",
    "    map_maker(subset_features[0], subset_features[1], subset_features[2], i, 18)\n"
   ]
  },
  {
   "cell_type": "code",
   "execution_count": null,
   "metadata": {},
   "outputs": [],
   "source": []
  }
 ],
 "metadata": {
  "kernelspec": {
   "display_name": "Python 3",
   "language": "python",
   "name": "python3"
  },
  "language_info": {
   "codemirror_mode": {
    "name": "ipython",
    "version": 3
   },
   "file_extension": ".py",
   "mimetype": "text/x-python",
   "name": "python",
   "nbconvert_exporter": "python",
   "pygments_lexer": "ipython3",
   "version": "3.9.16"
  },
  "orig_nbformat": 4
 },
 "nbformat": 4,
 "nbformat_minor": 2
}
