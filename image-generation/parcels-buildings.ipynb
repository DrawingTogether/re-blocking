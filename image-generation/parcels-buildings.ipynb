{
 "cells": [
  {
   "cell_type": "code",
   "execution_count": null,
   "metadata": {},
   "outputs": [],
   "source": [
    "# import libraries\n",
    "import matplotlib.pyplot as plt\n",
    "import cartopy.crs as ccrs\n",
    "from cartopy.io.img_tiles import MapboxTiles\n",
    "import geopandas as gpd\n",
    "import os\n",
    "from dotenv import load_dotenv\n",
    "load_dotenv() # loads .env file from main folder for Mapbox API key and local project path\n",
    "import random"
   ]
  },
  {
   "cell_type": "code",
   "execution_count": null,
   "metadata": {},
   "outputs": [],
   "source": [
    "!pip3 install matplotlib cartopy geopandas"
   ]
  },
  {
   "cell_type": "code",
   "execution_count": null,
   "metadata": {},
   "outputs": [],
   "source": [
    "# load parcel and building data\n",
    "\n",
    "df_parcels = gpd.read_file(\"../Data/Parcels/Charlotte-NC/mecklenburg-parcels-09-19-2023/nc_mecklenburg_parcels_poly.shp\")\n",
    "# This is a WGS 84 projection.... \n",
    "df_buildings = gpd.read_file(\"../Data/Building Footprints/NC/NorthCarolina.geojson\") "
   ]
  },
  {
   "cell_type": "code",
   "execution_count": null,
   "metadata": {},
   "outputs": [],
   "source": [
    "epsg_buildings = df_buildings.crs.to_epsg()"
   ]
  },
  {
   "cell_type": "code",
   "execution_count": null,
   "metadata": {},
   "outputs": [],
   "source": [
    "# set CRS to web mercator\n",
    "df_buildings = df_buildings.to_crs(epsg=epsg_buildings)\n",
    "df_parcels = df_parcels.to_crs(epsg=epsg_buildings)"
   ]
  },
  {
   "cell_type": "code",
   "execution_count": null,
   "metadata": {},
   "outputs": [],
   "source": [
    "# set random RGB color for the parcels\n",
    "def random_hex_color(seed=False):\n",
    "  if seed:\n",
    "    random.seed(seed)\n",
    "    r = random.randint(0, 255)\n",
    "    random.seed(seed+1000)\n",
    "    g = random.randint(0, 255)\n",
    "    random.seed(seed+2000)\n",
    "    b = random.randint(0, 255)\n",
    "  else:\n",
    "    r = random.randint(0, 255)\n",
    "    g = random.randint(0, 255)\n",
    "    b = random.randint(0, 255)\n",
    "  return \"#{:02x}{:02x}{:02x}\".format(r, g, b)\n",
    "random_hex_color()\n",
    "df_parcels['color'] = [ random_hex_color() for i in range(len(df_parcels)) ]"
   ]
  },
  {
   "cell_type": "code",
   "execution_count": null,
   "metadata": {},
   "outputs": [],
   "source": [
    "# remove duplicates in parcels\n",
    "indexes_to_remove = []\n",
    "my_dict = {}\n",
    "for index, row in df_parcels.iterrows():\n",
    "    if row['geometry'] not in my_dict:\n",
    "        my_dict[row['geometry']] = 1\n",
    "    else:\n",
    "        indexes_to_remove.append(index)\n",
    "df_parcels = df_parcels.drop(indexes_to_remove)\n",
    "df_parcels.reset_index(drop=True, inplace=True)"
   ]
  },
  {
   "cell_type": "code",
   "execution_count": null,
   "metadata": {},
   "outputs": [],
   "source": [
    "# remove duplicates in buildings\n",
    "indexes_to_remove = []\n",
    "my_dict = {}\n",
    "for index, row in df_buildings.iterrows():\n",
    "    if row['geometry'] not in my_dict:\n",
    "        my_dict[row['geometry']] = 1\n",
    "    else:\n",
    "        indexes_to_remove.append(index)\n",
    "df_buildings = df_buildings.drop(indexes_to_remove)\n",
    "df_buildings.reset_index(drop=True, inplace=True)"
   ]
  },
  {
   "cell_type": "code",
   "execution_count": null,
   "metadata": {},
   "outputs": [],
   "source": [
    "# add building id\n",
    "df_buildings['building_id'] = [i for i in range(len(df_buildings))]\n",
    "\n",
    "# add parcel id\n",
    "df_parcels['parcel_id'] = [i for i in range(len(df_parcels))]"
   ]
  },
  {
   "cell_type": "code",
   "execution_count": null,
   "metadata": {},
   "outputs": [],
   "source": [
    "# Perform a spatial join between buildings and parcels\n",
    "buildings_with_parcel_info = df_buildings.sjoin(df_parcels, how=\"inner\")"
   ]
  },
  {
   "cell_type": "code",
   "execution_count": null,
   "metadata": {},
   "outputs": [],
   "source": [
    "#Check how many building there are in each parcel. F.ex. parcel with parcel_id 181422 has 273 building in it!\n",
    "buildings_with_parcel_info['parcel_id'].value_counts()"
   ]
  },
  {
   "cell_type": "code",
   "execution_count": null,
   "metadata": {},
   "outputs": [],
   "source": [
    "# Count the number of times each building appears (number of intersecting parcels)\n",
    "building_counts = buildings_with_parcel_info.groupby(\"building_id\").size()\n",
    "buildings_with_multiple_parcels = building_counts[building_counts > 1].index.tolist()\n",
    "\n",
    "# Calculate the percentage of buildings with multiple parcels\n",
    "percentage_buildings_with_multiple_parcels = (len(buildings_with_multiple_parcels) / len(buildings_with_parcel_info)) * 100\n",
    "\n",
    "print(f\"Percentage of buildings with multiple parcels: {percentage_buildings_with_multiple_parcels:.2f}%\")  # 10.47% after deleting parcel duplicates"
   ]
  },
  {
   "cell_type": "code",
   "execution_count": null,
   "metadata": {},
   "outputs": [],
   "source": [
    "df_parcels.plot()"
   ]
  },
  {
   "cell_type": "code",
   "execution_count": null,
   "metadata": {},
   "outputs": [],
   "source": [
    "# All buildings in parcels\n",
    "len(buildings_with_parcel_info)"
   ]
  },
  {
   "cell_type": "code",
   "execution_count": null,
   "metadata": {},
   "outputs": [],
   "source": [
    "buildings_with_parcel_info.plot()\n",
    "# For Charlotte dataset: This is correct. Charlotte is very sparesly populated due to its geomorphology."
   ]
  },
  {
   "cell_type": "code",
   "execution_count": null,
   "metadata": {},
   "outputs": [],
   "source": [
    "# For Charlotte dataset: An example of a building with multiple parcels \n",
    "buildings_with_parcel_info[buildings_with_parcel_info['building_id']==29]"
   ]
  },
  {
   "cell_type": "code",
   "execution_count": null,
   "metadata": {},
   "outputs": [],
   "source": [
    "# Visualize all parcels associated with a building id\n",
    "def plot_building_parcels(df, building_id):\n",
    "    \n",
    "    parcel_ids = df[df[\"building_id\"] == building_id][\"parcel_id\"].tolist()\n",
    "    \n",
    "    if building_id not in df['building_id']: \n",
    "        raise Exception(\"Building not in list\")\n",
    "     \n",
    "    # Plot the two cells\n",
    "    fig, ax = plt.subplots()\n",
    "    plt.title(f\"{building_id}\")\n",
    "    \n",
    "    # Parcels plot\n",
    "    df_parcels[ df_parcels['parcel_id'].isin(parcel_ids) ].plot(ax=ax, color=\"blue\")\n",
    "    \n",
    "     # Building plot\n",
    "    df[df['building_id']==building_id].plot(ax=ax, color=\"red\")\n",
    "\n",
    "    # Show the plot\n",
    "    plt.show()"
   ]
  },
  {
   "cell_type": "code",
   "execution_count": null,
   "metadata": {},
   "outputs": [],
   "source": [
    "plot_building_parcels(buildings_with_parcel_info, 29)"
   ]
  },
  {
   "cell_type": "code",
   "execution_count": null,
   "metadata": {},
   "outputs": [],
   "source": [
    "# Create an empty dictionary to store the maximum area of each building within its parcels\n",
    "building_max_area_in_parcel = {}\n",
    "\n",
    "# Iterate through buildings with multiple parcels\n",
    "for building_id in buildings_with_multiple_parcels:\n",
    "    \n",
    "    # Initialize the maximum area for the current building to -1\n",
    "    building_max_area_in_parcel[building_id] = -1\n",
    "    \n",
    "    # Extract information about the current building\n",
    "    building = df_buildings[df_buildings[\"building_id\"] == building_id].copy()\n",
    "    \n",
    "    # Get a list of parcel IDs associated with the current building\n",
    "    parcel_ids = buildings_with_parcel_info[buildings_with_parcel_info[\"building_id\"] == building_id][\"parcel_id\"].tolist()\n",
    "    \n",
    "    # Initialize variables for iteration\n",
    "    i = 0\n",
    "    split_geometries = []\n",
    "    areas = []\n",
    "    \n",
    "    # Split the building geometry into separate parts based on the parcels\n",
    "    for parcel_id in parcel_ids:\n",
    "        split_geometries.append(df_parcels[df_parcels[\"parcel_id\"] == parcel_id].geometry.intersection(building.geometry.unary_union))\n",
    "        areas.append(split_geometries[i].area.values[0])\n",
    "        i += 1\n",
    "        \n",
    "    # Calculate the (area in parcel)/(total area) ratio for each parcel\n",
    "    areas_normalized = [a/sum(areas) for a in areas]\n",
    "    \n",
    "    # Initialize a flag to track if any areas are found\n",
    "    flag = False\n",
    "    \n",
    "    # Find the maximum area within the parcels for the current building\n",
    "    for a in areas_normalized:\n",
    "        building_max_area_in_parcel[building_id] = max(building_max_area_in_parcel[building_id], a)\n"
   ]
  },
  {
   "cell_type": "code",
   "execution_count": null,
   "metadata": {},
   "outputs": [],
   "source": [
    "#Set high threshold\n",
    "threshold = 0.75"
   ]
  },
  {
   "cell_type": "code",
   "execution_count": null,
   "metadata": {},
   "outputs": [],
   "source": [
    "# Count how many values are above high threshold\n",
    "count_above = sum(value > threshold for value in building_max_area_in_parcel.values())\n",
    "# Calculate the total number of values\n",
    "total_values = len(building_max_area_in_parcel)\n",
    "# Calculate the percentage\n",
    "percentage = (count_above / total_values) * 100\n",
    "print(count_above,\"in\", total_values, \"buildings above\", threshold*100, \"%\")\n",
    "print(\"Percentage: \", percentage)"
   ]
  },
  {
   "cell_type": "code",
   "execution_count": null,
   "metadata": {},
   "outputs": [],
   "source": [
    "# Visualize % or building area in parcel, for all buildings\n",
    "\n",
    "def plot_value_distribution(dictionary):\n",
    "    # Extract values from the dictionary\n",
    "    values = list(dictionary.values())\n",
    "    \n",
    "    # Plot histogram\n",
    "    plt.hist(values, bins='auto')  # The 'auto' binning option will attempt to choose a sensible number of bins.\n",
    "    plt.title('Value Distribution')\n",
    "    plt.xlabel('Value')\n",
    "    plt.ylabel('Frequency')\n",
    "    plt.show()"
   ]
  },
  {
   "cell_type": "code",
   "execution_count": null,
   "metadata": {},
   "outputs": [],
   "source": [
    "plot_value_distribution(building_max_area_in_parcel)"
   ]
  },
  {
   "cell_type": "code",
   "execution_count": null,
   "metadata": {},
   "outputs": [],
   "source": [
    "# Visualize parcels for multiple building ids for comparison\n",
    "\n",
    "def plot_multiple_building_parcels(df, building_ids, area_perc_dict):\n",
    "    # Determine the size of the grid\n",
    "    num_buildings = len(building_ids)\n",
    "    nrows = int(num_buildings**0.5)  # Take the square root of the number of buildings to get the grid size\n",
    "    ncols = int(num_buildings / nrows) + (num_buildings % nrows > 0)\n",
    "\n",
    "    fig, axs = plt.subplots(nrows=nrows, ncols=ncols, figsize=(15, 15))  # Adjust the figsize accordingly\n",
    "    axs = axs.flatten()  # Flatten the array of axes to make it easier to iterate over\n",
    "\n",
    "    for index, building_id in enumerate(building_ids):\n",
    "        ax = axs[index]\n",
    "        if building_id not in df['building_id'].values:\n",
    "            raise Exception(f\"Building ID {building_id} not in list\")\n",
    "        \n",
    "        # Get parcel ids after checking if building_id exists in df\n",
    "        parcel_ids = df[df[\"building_id\"] == building_id][\"parcel_id\"].tolist()\n",
    "        \n",
    "        # Calculate percentage\n",
    "        perc = round(round(float(area_perc_dict[building_id]), 4) * 100, 2)\n",
    "        \n",
    "        # Generate a random color\n",
    "        random_color = \"#{:06x}\".format(random.randint(0, 0xFFFFFF))\n",
    "        \n",
    "        # Set title with the building_id and its percentage\n",
    "        ax.set_title(f\"Build. {building_id}: maxArea in parcel {perc}%\")\n",
    "        \n",
    "        # Plot each parcel with a random color\n",
    "        for parcel_id in parcel_ids:\n",
    "            random_color = \"#{:06x}\".format(random.randint(0, 0xFFFFFF))\n",
    "            df_parcels[df_parcels['parcel_id'] == parcel_id].plot(ax=ax, color=random_color)\n",
    "        \n",
    "        # Building plot\n",
    "        df[df['building_id'] == building_id].plot(ax=ax, color=\"red\")\n",
    "    \n",
    "    # Hide any unused subplots\n",
    "    for ax in axs[num_buildings:]:\n",
    "        ax.set_visible(False)\n",
    "\n",
    "    # Adjust the layout\n",
    "    plt.tight_layout()\n",
    "    plt.show()\n"
   ]
  },
  {
   "cell_type": "code",
   "execution_count": null,
   "metadata": {},
   "outputs": [],
   "source": [
    "# plot_multiple_building_parcels(buildings_with_parcel_info, [31, 624, 153781, 166903, 1503, 167487, 167141, 457], building_max_area_in_parcel)"
   ]
  },
  {
   "cell_type": "code",
   "execution_count": null,
   "metadata": {},
   "outputs": [],
   "source": [
    "# Split buildings according to parcel inclusion\n",
    "\n",
    "# Create an empty GeoDataFrame to hold the split buildings\n",
    "split_buildings = gpd.GeoDataFrame()\n",
    "\n",
    "# Initialize a counter for tracking progress\n",
    "count = 0\n",
    "\n",
    "# Create a dictionary to store information about parcels to be removed\n",
    "to_remove = {}\n",
    "\n",
    "# Iterate through buildings with multiple parcels\n",
    "for building_id in buildings_with_multiple_parcels:\n",
    "    # Print progress every 1000 buildings\n",
    "    if count % 1000 == 0:\n",
    "        print(count)\n",
    "    \n",
    "    # Increment the counter\n",
    "    count += 1\n",
    "    \n",
    "    # Select the building with the current building_id\n",
    "    building = df_buildings[df_buildings[\"building_id\"] == building_id].copy()\n",
    "    \n",
    "    # Get the list of parcel IDs that intersect with the building\n",
    "    parcel_ids = buildings_with_parcel_info[buildings_with_parcel_info[\"building_id\"] == building_id][\"parcel_id\"].tolist()\n",
    "\n",
    "    # Initialize lists to store split geometries and areas\n",
    "    split_geometries = []\n",
    "    areas = []\n",
    "    \n",
    "    # Split the building geometry into separate parts based on the parcels\n",
    "    i = 0\n",
    "    for parcel_id in parcel_ids:\n",
    "        split_geometries.append(df_parcels[df_parcels[\"parcel_id\"] == parcel_id].geometry.intersection(building.geometry.unary_union)) \n",
    "        areas.append(split_geometries[i].area.values[0])\n",
    "        i += 1\n",
    "        \n",
    "    # Calculate the normalized areas for each parcel\n",
    "    areas_normalized = [a/sum(areas) for a in areas]\n",
    "    \n",
    "    # Find the maximum normalized area value and its index\n",
    "    max_value = max(areas_normalized)\n",
    "    max_index = areas_normalized.index(max_value)\n",
    "    \n",
    "    # If the maximum area is greater than or equal to 0.75, remove everything except the one with high area\n",
    "    if max_value >= 0.75:\n",
    "        to_remove[building_id] = parcel_ids[:max_index] + parcel_ids[max_index + 1:]\n",
    "    else:\n",
    "        # If the maximum area is less than 0.75, remove all parcels below 0.15 and between 0.15 and 0.75\n",
    "        for i in range(len(areas_normalized)):\n",
    "            if areas_normalized[i] <= 0.15:\n",
    "                if building_id in to_remove:\n",
    "                    to_remove[building_id] = to_remove[building_id] + [parcel_ids[i]]\n",
    "                else:\n",
    "                    to_remove[building_id] = [parcel_ids[i]]\n",
    "        for i in range(len(areas_normalized)):\n",
    "            if 0.15 < areas_normalized[i] < 0.75:\n",
    "                if building_id in to_remove:\n",
    "                    to_remove[building_id] = to_remove[building_id] + [parcel_ids[i]]\n",
    "                else:\n",
    "                    to_remove[building_id] = [parcel_ids[i]]\n",
    "                \n",
    "                # Create a temporary building with split geometry and update its attributes\n",
    "                building_temp = buildings_with_parcel_info[(buildings_with_parcel_info[\"building_id\"] == building_id) & (buildings_with_parcel_info[\"parcel_id\"] == parcel_ids[i])].copy()\n",
    "                building_temp.geometry = split_geometries[i].values\n",
    "                building_temp['building_id'] = str(building_temp['building_id'].values[0]) + '_' + str(i)\n",
    "                \n",
    "                # Append the temporary building to the split_buildings GeoDataFrame\n",
    "                split_buildings = split_buildings.append(building_temp, ignore_index=True)\n"
   ]
  },
  {
   "cell_type": "code",
   "execution_count": null,
   "metadata": {},
   "outputs": [],
   "source": [
    "# Remove building under low threshold (hardcoded in prev cell)\n",
    "\n",
    "buildings_with_parcel_info_new = buildings_with_parcel_info.copy()\n",
    "print(buildings_with_parcel_info_new.shape[0])\n",
    "for key, values in to_remove.items():\n",
    "    for v in values:\n",
    "        buildings_with_parcel_info_new = buildings_with_parcel_info_new[(buildings_with_parcel_info_new['building_id']!=key) | (buildings_with_parcel_info_new['parcel_id']!=v) ]\n",
    "# print(buildings_with_parcel_info_new.shape[0])\n",
    "# add new ones\n",
    "buildings_with_parcel_info_new = buildings_with_parcel_info_new.append(split_buildings, ignore_index=True)\n",
    "buildings_with_parcel_info_new['building_id'] = buildings_with_parcel_info_new['building_id'].astype(str)"
   ]
  },
  {
   "cell_type": "code",
   "execution_count": null,
   "metadata": {},
   "outputs": [],
   "source": [
    "#save geopandas\n",
    "# buildings_with_parcel_info_new.to_file('./buildings_with_parcels_Charlotte-NC.geojson', driver='GeoJSON')"
   ]
  },
  {
   "cell_type": "code",
   "execution_count": null,
   "metadata": {},
   "outputs": [],
   "source": [
    "#load geopandas (if required)\n",
    "buildings_with_parcel_info_new = gpd.read_file('../buildings_with_parcels_Charlotte-NC.geojson', driver='GeoJSON')"
   ]
  },
  {
   "cell_type": "code",
   "execution_count": null,
   "metadata": {},
   "outputs": [],
   "source": [
    "# fix colors on buildings based on parcels\n",
    "for index, row in buildings_with_parcel_info_new.iterrows():\n",
    "    parcel_id = row['parcel_id']\n",
    "    buildings_with_parcel_info_new.loc[index,'color'] = df_parcels[df_parcels['parcel_id']==parcel_id].color.values[0]"
   ]
  },
  {
   "cell_type": "code",
   "execution_count": null,
   "metadata": {},
   "outputs": [],
   "source": [
    "#Visualize buildings in unique parcels for troubleshooting\n",
    "def plot_multiple_building_parcels_after_split(df, building_ids):\n",
    "    # Determine the size of the grid\n",
    "    num_buildings = len(building_ids)\n",
    "    nrows = int(num_buildings**0.5)  # Take the square root of the number of buildings to get the grid size\n",
    "    ncols = int(num_buildings / nrows) + (num_buildings % nrows > 0)\n",
    "\n",
    "    fig, axs = plt.subplots(nrows=nrows, ncols=ncols, figsize=(15, 15))  # Adjust the figsize accordingly\n",
    "    axs = axs.flatten()  # Flatten the array of axes to make it easier to iterate over\n",
    "\n",
    "    for index, building_id in enumerate(building_ids):\n",
    "        ax = axs[index]\n",
    "        if building_id not in df['building_id'].values:\n",
    "            raise Exception(f\"Building ID {building_id} not in list\")\n",
    "        \n",
    "        # Get parcel ids after checking if building_id exists in df\n",
    "        parcel_ids = df[df[\"building_id\"] == building_id][\"parcel_id\"].tolist()\n",
    "        \n",
    "           \n",
    "        # Generate a random color\n",
    "        random_color = \"#{:06x}\".format(random.randint(0, 0xFFFFFF))\n",
    "        \n",
    "        # Set title with the building_id and its percentage\n",
    "        ax.set_title(f\"Build. {building_id}\")\n",
    "        \n",
    "        # Plot each parcel with a random color\n",
    "        for parcel_id in parcel_ids:\n",
    "            random_color = \"#{:06x}\".format(random.randint(0, 0xFFFFFF))\n",
    "            df_parcels[df_parcels['parcel_id'] == parcel_id].plot(ax=ax, color=random_color)\n",
    "        \n",
    "        # Building plot\n",
    "        df[df['building_id'] == building_id].plot(ax=ax, color=\"red\")\n",
    "    \n",
    "    # Hide any unused subplots\n",
    "    for ax in axs[num_buildings:]:\n",
    "        ax.set_visible(False)\n",
    "\n",
    "    # Adjust the layout\n",
    "    plt.tight_layout()\n",
    "    plt.show()\n",
    "    \n",
    "    \n",
    "    plot_multiple_building_parcels_after_split(buildings_with_parcel_info_new, ['31', '624', '153781', '166903', '1503', '167487_0', '167487_1', '167141_1',  '167141_2',  '167141_3', '457_0', '457_1', '457_2', '457_3' ])"
   ]
  },
  {
   "cell_type": "code",
   "execution_count": null,
   "metadata": {},
   "outputs": [],
   "source": [
    "# loop through the parcels and add them to the map\n",
    "def add_geometries(ax, df_parcels, crs_epsg, random_color = False):\n",
    "    for row in df_parcels.itertuples():\n",
    "        geometry = row.geometry\n",
    "        if random_color == True: color = random_hex_color(int(row.bin))\n",
    "        else: color = row.color\n",
    "        ax.add_geometries(geometry, crs = crs_epsg, facecolor=color) # for Lat/Lon data."
   ]
  },
  {
   "cell_type": "code",
   "execution_count": null,
   "metadata": {},
   "outputs": [],
   "source": [
    "# load the background map and plot the geometries\n",
    "\n",
    "def map_maker(df_parcels, df_buildings, bounds, index, scale=10, feature_type='both', random_color=False, img_folder = None):\n",
    "    access_token = os.environ.get('MAPBOX_ACCESS_TOKEN')\n",
    "    tiler = MapboxTiles(access_token, 'satellite-v9')\n",
    "    crs_epsg = ccrs.epsg('3857') #convert to web mercator\n",
    "\n",
    "\n",
    "    mercator = tiler.crs\n",
    "\n",
    "    fig = plt.figure()\n",
    "    ax = fig.add_subplot(1, 1, 1, projection=mercator)\n",
    "\n",
    "    # change figure size of the subplot\n",
    "    my_dpi=96\n",
    "    fig.set_size_inches(7, 7)\n",
    "    # fig.figsize = (512/my_dpi, 512/my_dpi), dpi=my_dpi\n",
    "\n",
    "    # calculate the centroid and max distance of the bounds\n",
    "    dist1 = bounds[2]-bounds[0]\n",
    "    dist2 = bounds[3]-bounds[1]\n",
    "    max_dist = max(dist1, dist2)/2\n",
    "\n",
    "    # calculate the centroid of the bounds\n",
    "    centroid_x = (bounds[2]+bounds[0])/2\n",
    "    centroid_y = (bounds[3]+bounds[1])/2\n",
    "\n",
    "    # bounds = df_parcels.total_bounds with offset to create same aspect ratio\n",
    "    ax.set_extent([centroid_x-max_dist, centroid_x+max_dist, centroid_y-max_dist, centroid_y+max_dist], crs=ccrs.epsg('3857'))\n",
    "\n",
    "    # if feature_type == 'parcels': add_parcels(ax, df_parcels, crs_epsg)\n",
    "    if feature_type == 'parcels': \n",
    "        add_geometries(ax, df_parcels, crs_epsg)\n",
    "        # ax.add_geometries(df_buildings.geometry, crs = crs_epsg, facecolor='white', edgecolor='black', linewidth=2.5, alpha=1)\n",
    "    if feature_type == 'parcels' and random_color == True:\n",
    "        add_geometries(ax, df_parcels, crs_epsg, random_color=True)\n",
    "    if feature_type == 'buildings': \n",
    "        add_geometries(ax, df_buildings, crs_epsg)\n",
    "    if feature_type == 'buildings' and random_color == True:\n",
    "        add_geometries(ax, df_buildings, crs_epsg, random_color=True)\n",
    "    if feature_type == 'both' and random_color == True: \n",
    "        add_geometries(ax, df_buildings, crs_epsg, random_color=True)\n",
    "        add_geometries(ax, df_parcels, crs_epsg, random_color=True)\n",
    "    if  feature_type == 'both': \n",
    "        # ax.add_geometries(df_buildings.geometry, crs = crs_epsg, facecolor='black', edgecolor='white', linewidth=1.5, alpha=1)\n",
    "        add_geometries(ax, df_buildings, crs_epsg, random_color=True)\n",
    "        add_geometries(ax, df_parcels, crs_epsg)\n",
    "\n",
    "    # add the Mapbox tiles to the axis at zoom level 10 (Mapbox has 23 zoom levels)\n",
    "    ax.add_image(tiler, scale)\n",
    "\n",
    "    # set the path to the folder where the images will be saved\n",
    "    output_folder = img_folder\n",
    "\n",
    "    # save the figure\n",
    "    plt.savefig(output_folder + f'{feature_type}_{index}.jpg', bbox_inches='tight', pad_inches = 0, dpi = my_dpi)\n",
    "    # plt.savefig(output_folder + f'building_{index}.jpg', bbox_inches='tight', pad_inches = 0, dpi = my_dpi)\n",
    "\n",
    "    # close the figure\n",
    "    plt.close(fig)\n",
    "\n",
    "    # ax.coastlines('10m')\n",
    "    plt.show()"
   ]
  },
  {
   "cell_type": "code",
   "execution_count": null,
   "metadata": {},
   "outputs": [],
   "source": [
    "# create a folder to store the images if it doesn't exist\n",
    "# make sure to git-ignore the folder\n",
    "try:\n",
    "    os.mkdir('buildings-Charlotte')\n",
    "except:\n",
    "    print('Folder exists')\n",
    "    \n",
    "try:\n",
    "    os.mkdir('parcels-Charlotte')\n",
    "except:\n",
    "    print('Folder exists')"
   ]
  },
  {
   "cell_type": "code",
   "execution_count": null,
   "metadata": {},
   "outputs": [],
   "source": [
    "# Generate a list of 25,000 random indices within the range of the DataFrame's length\n",
    "indices_to_print = random.sample(range(buildings_with_parcel_info_new.shape[0]), 200000)\n"
   ]
  },
  {
   "cell_type": "code",
   "execution_count": null,
   "metadata": {},
   "outputs": [],
   "source": [
    "# subset the data frames based on a buffer\n",
    "def subset(df, df_buildings, index, distance = 75):\n",
    "    selected_feature = df.loc[index]\n",
    "    geometry_buffer = selected_feature.geometry.buffer(distance)\n",
    "    geometry_bounds = selected_feature.geometry.buffer(distance-70)\n",
    "\n",
    "    return df[df.within(geometry_buffer)], df_buildings[df_buildings.within(geometry_buffer)], geometry_bounds.bounds"
   ]
  },
  {
   "cell_type": "code",
   "execution_count": null,
   "metadata": {},
   "outputs": [],
   "source": [
    "# generate the image for \"parcels\" and \"buildings\" (or \"both\")\n",
    "# index will correspond to each of the parcel indices in the data frame\n",
    "count = 0 \n",
    "indices_used = []\n",
    "for i in indices_to_print:\n",
    "    if count % 1000 == 0:\n",
    "        print(count)\n",
    "    try:    \n",
    "        subset_features = subset(df_parcels, buildings_with_parcel_info_new, i, 200)\n",
    "        map_maker(subset_features[0], subset_features[1], subset_features[2], i, 18, 'parcels', img_folder='./parcels-Charlotte/')\n",
    "        map_maker(subset_features[0], subset_features[1], subset_features[2], i, 18, 'buildings', img_folder='./buildings-Charlotte/')\n",
    "        indices_used.append(i)\n",
    "        count = count + 1\n",
    "        if count == 25000:\n",
    "            break\n",
    "    except:\n",
    "        print(\"Error at index: \",i)"
   ]
  },
  {
   "cell_type": "code",
   "execution_count": null,
   "metadata": {},
   "outputs": [],
   "source": [
    "import csv\n",
    "\n",
    "# Specify the CSV file name\n",
    "file_name = \"./building_indices.csv\"\n",
    "\n",
    "# Writing to a csv file\n",
    "with open(file_name, mode='w', newline='') as file:\n",
    "    writer = csv.writer(file)\n",
    "    writer.writerow(indices_used)"
   ]
  }
 ],
 "metadata": {
  "kernelspec": {
   "display_name": "Python 3",
   "language": "python",
   "name": "python3"
  },
  "language_info": {
   "codemirror_mode": {
    "name": "ipython",
    "version": 3
   },
   "file_extension": ".py",
   "mimetype": "text/x-python",
   "name": "python",
   "nbconvert_exporter": "python",
   "pygments_lexer": "ipython3",
   "version": "3.9.6"
  },
  "orig_nbformat": 4
 },
 "nbformat": 4,
 "nbformat_minor": 2
}
