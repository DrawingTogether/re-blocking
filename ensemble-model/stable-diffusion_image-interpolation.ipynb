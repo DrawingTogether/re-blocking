{
 "cells": [
  {
   "cell_type": "code",
   "execution_count": null,
   "metadata": {},
   "outputs": [],
   "source": [
    "import torch\n",
    "from torchvision.transforms import Compose, Resize, ToTensor, Normalize\n",
    "from diffusers import StableDiffusionPipeline\n",
    "from PIL import Image\n",
    "import numpy as np\n",
    "import matplotlib.pyplot as plt\n",
    "import os"
   ]
  },
  {
   "cell_type": "code",
   "execution_count": null,
   "metadata": {},
   "outputs": [],
   "source": [
    "## Check MPS availability on Apple Silicon\n",
    "import torch\n",
    "\n",
    "if torch.backends.mps.is_available():\n",
    "    print(\"MPS backend is available.\")\n",
    "else:\n",
    "    print(\"MPS backend is not available.\")"
   ]
  },
  {
   "cell_type": "code",
   "execution_count": null,
   "metadata": {},
   "outputs": [],
   "source": [
    "image1_path = \"/Users/ls/Library/CloudStorage/GoogleDrive-l.schrage@northeastern.edu/Shared drives/Drawing Participation/Million Neighborhoods/Generated Images/ma-boston/parcels/parcels_50.jpg\" \n",
    "image2_path = \"/Users/ls/Library/CloudStorage/GoogleDrive-l.schrage@northeastern.edu/Shared drives/Drawing Participation/Million Neighborhoods/Generated Images/pa-pittsburgh/parcels/parcels_263.jpg\""
   ]
  },
  {
   "cell_type": "code",
   "execution_count": null,
   "metadata": {},
   "outputs": [],
   "source": [
    "# Load pre-trained Stable Diffusion model\n",
    "model_id = \"CompVis/stable-diffusion-v1-4\"\n",
    "pipe = StableDiffusionPipeline.from_pretrained(model_id, torch_dtype=torch.float16)\n",
    "pipe = pipe.to(\"cuda\")  # Use \"cuda\" if you have a compatible GPU\n",
    "\n",
    "# Define transformations for input images\n",
    "transform = Compose([\n",
    "    Resize((512, 512)),  # Resize images to the model's input size\n",
    "    ToTensor(),\n",
    "    Normalize([0.5], [0.5])  # Normalize to match model input expectations\n",
    "])\n",
    "\n",
    "# Load and transform images\n",
    "def load_image(image_path):\n",
    "    image = Image.open(image_path).convert(\"RGB\")\n",
    "    return transform(image).unsqueeze(0).to(\"cuda\")\n",
    "\n",
    "image1 = load_image(image1_path)\n",
    "image2 = load_image(image2_path)\n",
    "\n",
    "# Encode images to latents\n",
    "with torch.no_grad():\n",
    "    latents1 = pipe.vae.encode(image1).latent_dist.sample()\n",
    "    latents2 = pipe.vae.encode(image2).latent_dist.sample()\n",
    "\n",
    "# Interpolate between latents\n",
    "num_steps = 10\n",
    "alphas = np.linspace(0, 1, num_steps)\n",
    "interpolated_images = []\n",
    "\n",
    "for alpha in alphas:\n",
    "    interpolated_latent = (1 - alpha) * latents1 + alpha * latents2\n",
    "    # Decode the interpolated latents\n",
    "    decoded_image = pipe.vae.decode(interpolated_latent).sample().squeeze(0)\n",
    "    interpolated_images.append(decoded_image)\n",
    "\n",
    "# Plot results\n",
    "fig, axes = plt.subplots(1, num_steps, figsize=(20, 5))\n",
    "for ax, img in zip(axes, interpolated_images):\n",
    "    ax.imshow((img.permute(1, 2, 0).cpu().numpy() * 0.5 + 0.5))\n",
    "    ax.axis('off')\n",
    "plt.show()"
   ]
  },
  {
   "cell_type": "code",
   "execution_count": null,
   "metadata": {},
   "outputs": [],
   "source": [
    "# Check if MPS is available and set device accordingly\n",
    "device = torch.device(\"mps\" if torch.backends.mps.is_available() else \"cpu\")\n",
    "\n",
    "# Load the pre-trained Stable Diffusion model\n",
    "model_id = \"CompVis/stable-diffusion-v1-4\"\n",
    "pipe = StableDiffusionPipeline.from_pretrained(model_id).to(device)\n",
    "\n",
    "# Define transformations for input images\n",
    "transform = Compose([\n",
    "    Resize((512, 512)),  # Resize images to the model's input size\n",
    "    ToTensor(),\n",
    "    Normalize([0.5], [0.5])  # Normalize to match model input expectations\n",
    "])\n",
    "\n",
    "# Load and transform images\n",
    "def load_image(image_path):\n",
    "    image = Image.open(image_path).convert(\"RGB\")\n",
    "    return transform(image).unsqueeze(0).to(device)\n",
    "\n",
    "# Load images\n",
    "image1 = load_image(image1_path).float()  # Ensure input is in float32\n",
    "image2 = load_image(image2_path).float()\n",
    "\n",
    "# Encode images to latents\n",
    "with torch.no_grad():\n",
    "    latents1 = pipe.vae.encode(image1).latent_dist.sample()\n",
    "    latents2 = pipe.vae.encode(image2).latent_dist.sample()\n",
    "\n",
    "# Interpolate between latents\n",
    "num_steps = 10\n",
    "alphas = np.linspace(0, 1, num_steps)\n",
    "interpolated_images = []\n",
    "\n",
    "for alpha in alphas:\n",
    "    interpolated_latent = (1 - alpha) * latents1 + alpha * latents2\n",
    "    # Decode the interpolated latents\n",
    "    decoded_image = pipe.vae.decode(interpolated_latent).sample[0]  # Access the tensor directly\n",
    "    interpolated_images.append(decoded_image)\n",
    "\n",
    "# Plot results\n",
    "fig, axes = plt.subplots(1, num_steps, figsize=(20, 5))\n",
    "for ax, img in zip(axes, interpolated_images):\n",
    "    ax.imshow((img.permute(1, 2, 0).cpu().numpy() * 0.5 + 0.5))\n",
    "    ax.axis('off')\n",
    "plt.show()"
   ]
  }
 ],
 "metadata": {
  "kernelspec": {
   "display_name": "Python 3",
   "language": "python",
   "name": "python3"
  },
  "language_info": {
   "codemirror_mode": {
    "name": "ipython",
    "version": 3
   },
   "file_extension": ".py",
   "mimetype": "text/x-python",
   "name": "python",
   "nbconvert_exporter": "python",
   "pygments_lexer": "ipython3",
   "version": "3.11.9"
  }
 },
 "nbformat": 4,
 "nbformat_minor": 2
}
