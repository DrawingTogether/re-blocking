{
 "cells": [
  {
   "cell_type": "code",
   "execution_count": null,
   "metadata": {},
   "outputs": [],
   "source": []
  },
  {
   "cell_type": "markdown",
   "metadata": {},
   "source": [
    "Build the Model"
   ]
  },
  {
   "cell_type": "code",
   "execution_count": null,
   "metadata": {},
   "outputs": [],
   "source": [
    "import torch\n",
    "\n",
    "# build custom softmax module\n",
    "class Softmax(torch.nn.Module):\n",
    "    def __init__(self, n_inputs, n_outputs):\n",
    "        super().__init__()\n",
    "        self.linear = torch.nn.Linear(n_inputs, n_outputs)\n",
    "\n",
    "    def forward(self, x):\n",
    "        pred = self.linear(x)\n",
    "        return pred\n",
    "    \n",
    "\n",
    "# call Softmax Classifier\n",
    "model_softmax = Softmax(784, 10)\n",
    "print(model_softmax.state_dict())\n",
    "\n",
    "\n"
   ]
  },
  {
   "cell_type": "markdown",
   "metadata": {},
   "source": [
    "Train the Model"
   ]
  },
  {
   "cell_type": "code",
   "execution_count": null,
   "metadata": {},
   "outputs": [],
   "source": [
    "class Softmax(torch.nn.Module):\n",
    "    \"custom softmax module\"\n",
    "    def __init__(self, n_inputs, n_outputs):\n",
    "        super().__init__()\n",
    "        self.linear = torch.nn.Linear(n_inputs, n_outputs)\n",
    "\n",
    "    def forward(self, x):\n",
    "        pred = self.linear(x)\n",
    "        return pred"
   ]
  },
  {
   "cell_type": "code",
   "execution_count": null,
   "metadata": {},
   "outputs": [],
   "source": [
    "epochs = 200\n",
    "Loss = []\n",
    "acc = []\n",
    "for epoch in range(epochs):\n",
    "    for i, (images, labels) in enumerate(train_loader):\n",
    "        optimizer.zero_grad()\n",
    "        outputs = model_softmax(images.view(-1, 28*28))\n",
    "        loss = criterion(outputs, labels)\n",
    "        # Loss.append(loss.item())\n",
    "        loss.backward()\n",
    "        optimizer.step()\n",
    "    Loss.append(loss.item())\n",
    "    correct = 0\n",
    "    for images, labels in val_loader:\n",
    "        outputs = model_softmax(images.view(-1, 28*28))\n",
    "        _, predicted = torch.max(outputs.data, 1)\n",
    "        correct += (predicted == labels).sum()\n",
    "    accuracy = 100 * (correct.item()) / len(val_data)\n",
    "    acc.append(accuracy)\n",
    "    if epoch % 10 == 0:\n",
    "        print('Epoch: {}. Loss: {}. Accuracy: {}'.format(epoch, loss.item(), accuracy))"
   ]
  },
  {
   "cell_type": "markdown",
   "metadata": {},
   "source": [
    "Loss plot"
   ]
  },
  {
   "cell_type": "code",
   "execution_count": null,
   "metadata": {},
   "outputs": [],
   "source": [
    "plt.plot(Loss)\n",
    "plt.xlabel(\"no. of epochs\")\n",
    "plt.ylabel(\"total loss\")\n",
    "plt.show()"
   ]
  },
  {
   "cell_type": "code",
   "execution_count": null,
   "metadata": {},
   "outputs": [],
   "source": [
    "plt.plot(acc)\n",
    "plt.xlabel(\"no. of epochs\")\n",
    "plt.ylabel(\"total accuracy\")\n",
    "plt.show()"
   ]
  },
  {
   "cell_type": "markdown",
   "metadata": {},
   "source": [
    "All code"
   ]
  },
  {
   "cell_type": "code",
   "execution_count": null,
   "metadata": {},
   "outputs": [],
   "source": [
    "import torch\n",
    "import matplotlib.pyplot as plt\n",
    "from torch.utils.data import DataLoader\n",
    "from torchvision import datasets, transforms\n",
    "from torchvision import datasets\n",
    "\n",
    "# download and apply the transform\n",
    "train_data = datasets.FashionMNIST('data', train=True, download=True, transform=transforms.ToTensor())\n",
    "train_data = list(train_data)[:4000]\n",
    "\n",
    "# splitting the dataset into train and validation sets\n",
    "train_data, val_data = train_data[:3500], train_data[3500:]\n",
    "\n",
    "# build custom softmax module\n",
    "class Softmax(torch.nn.Module):\n",
    "    def __init__(self, n_inputs, n_outputs):\n",
    "        super(Softmax, self).__init__()\n",
    "        self.linear = torch.nn.Linear(n_inputs, n_outputs)\n",
    "\n",
    "    def forward(self, x):\n",
    "        pred = self.linear(x)\n",
    "        return pred\n",
    "\n",
    "# call Softmax Classifier\n",
    "model_softmax = Softmax(784, 10)\n",
    "model_softmax.state_dict()\n",
    "\n",
    "# define loss, optimizier, and dataloader for train and validation sets\n",
    "optimizer = torch.optim.SGD(model_softmax.parameters(), lr = 0.01)\n",
    "criterion = torch.nn.CrossEntropyLoss()\n",
    "batch_size = 16\n",
    "train_loader = DataLoader(dataset = train_data, batch_size = batch_size)\n",
    "val_loader = DataLoader(dataset = val_data, batch_size = batch_size)\n",
    "\n",
    "epochs = 200\n",
    "Loss = []\n",
    "acc = []\n",
    "for epoch in range(epochs):\n",
    "    for i, (images, labels) in enumerate(train_loader):\n",
    "        optimizer.zero_grad()\n",
    "        outputs = model_softmax(images.view(-1, 28*28))\n",
    "        loss = criterion(outputs, labels)\n",
    "        # Loss.append(loss.item())\n",
    "        loss.backward()\n",
    "        optimizer.step()\n",
    "    Loss.append(loss.item())\n",
    "    correct = 0\n",
    "    for images, labels in val_loader:\n",
    "        outputs = model_softmax(images.view(-1, 28*28))\n",
    "        _, predicted = torch.max(outputs.data, 1)\n",
    "        correct += (predicted == labels).sum()\n",
    "    accuracy = 100 * (correct.item()) / len(val_data)\n",
    "    acc.append(accuracy)\n",
    "    if epoch % 10 == 0:\n",
    "        print('Epoch: {}. Loss: {}. Accuracy: {}'.format(epoch, loss.item(), accuracy))\n",
    "\n",
    "plt.plot(Loss)\n",
    "plt.xlabel(\"no. of epochs\")\n",
    "plt.ylabel(\"total loss\")\n",
    "plt.show()\n",
    "\n",
    "plt.plot(acc)\n",
    "plt.xlabel(\"no. of epochs\")\n",
    "plt.ylabel(\"total accuracy\")\n",
    "plt.show()"
   ]
  }
 ],
 "metadata": {
  "language_info": {
   "name": "python"
  }
 },
 "nbformat": 4,
 "nbformat_minor": 2
}
